{
 "cells": [
  {
   "cell_type": "markdown",
   "id": "dc63a9ac-d9fb-412f-af90-5bc72cf1f350",
   "metadata": {},
   "source": [
    "# Data Science Tools and Ecosystem"
   ]
  },
  {
   "cell_type": "markdown",
   "id": "7834bbeb-e9af-4cb8-9146-f22f683a1c1e",
   "metadata": {},
   "source": [
    "In this notebook, Data Science Tools and Ecosystem are summarized."
   ]
  },
  {
   "cell_type": "markdown",
   "id": "20a4e119-609b-4265-b74e-e901e445030e",
   "metadata": {},
   "source": [
    "**Objectives:** \n",
    "* List popular languages of Data Science.\n",
    "* List popular Data Science libraries.\n",
    "* List popular Data Science Environments in tabular format.\n",
    "* Evaluate some arithmetic expressions."
   ]
  },
  {
   "cell_type": "markdown",
   "id": "ce94256f-d2bf-4044-9c45-236f927551ee",
   "metadata": {},
   "source": [
    "Some of popular languages that Data Scientists use are:\n",
    "1. Python\n",
    "2. R\n",
    "3. Scala\n",
    "4. Java\n",
    "5. SQL"
   ]
  },
  {
   "cell_type": "markdown",
   "id": "424a792d-21b7-48e4-b7ba-67cd371ba5ee",
   "metadata": {},
   "source": [
    "Some of the commonly used libraries used by Data Scientists include:\n",
    "1. Pandas\n",
    "2. Matplotlib\n",
    "3. Scikit-Learn\n",
    "4. Seaborn"
   ]
  },
  {
   "cell_type": "markdown",
   "id": "69dab11a-1d4e-467a-b497-48cd50772466",
   "metadata": {},
   "source": [
    "| | Data Science Tools |\n",
    "|-|--------------------|\n",
    "|1|Jupyter Notebook|\n",
    "|2|RStudio|\n",
    "|3|Apache Zeppelin|"
   ]
  },
  {
   "cell_type": "markdown",
   "id": "eb0aafc2-4384-4987-a6a9-1b0518246745",
   "metadata": {},
   "source": [
    "### Below are few examples of evaluating arithmetic expressions in Python."
   ]
  },
  {
   "cell_type": "code",
   "execution_count": 1,
   "id": "8679f291-950f-4ab2-b406-02c5eb6b471e",
   "metadata": {
    "tags": []
   },
   "outputs": [
    {
     "data": {
      "text/plain": [
       "17"
      ]
     },
     "execution_count": 1,
     "metadata": {},
     "output_type": "execute_result"
    }
   ],
   "source": [
    "# This is a simple arithmetic expression to multiply then add integers.\n",
    "(3*4)+5"
   ]
  },
  {
   "cell_type": "code",
   "execution_count": 2,
   "id": "30ec03a2-62c2-451b-8752-437ce73000c5",
   "metadata": {
    "tags": []
   },
   "outputs": [
    {
     "data": {
      "text/plain": [
       "3.3333333333333335"
      ]
     },
     "execution_count": 2,
     "metadata": {},
     "output_type": "execute_result"
    }
   ],
   "source": [
    "# This will convert 200 minutes to hours by dividing by 60.\n",
    "(200 / 60)"
   ]
  },
  {
   "cell_type": "markdown",
   "id": "46ab2341-82ab-434b-915d-5bdd7ad39cdd",
   "metadata": {},
   "source": [
    "## Author\n",
    "Nikunj Indoriya"
   ]
  },
  {
   "cell_type": "code",
   "execution_count": null,
   "id": "b15f77cb-47e2-490a-a427-91e7b779e4d7",
   "metadata": {},
   "outputs": [],
   "source": []
  }
 ],
 "metadata": {
  "kernelspec": {
   "display_name": "Python",
   "language": "python",
   "name": "conda-env-python-py"
  },
  "language_info": {
   "codemirror_mode": {
    "name": "ipython",
    "version": 3
   },
   "file_extension": ".py",
   "mimetype": "text/x-python",
   "name": "python",
   "nbconvert_exporter": "python",
   "pygments_lexer": "ipython3",
   "version": "3.7.12"
  }
 },
 "nbformat": 4,
 "nbformat_minor": 5
}
